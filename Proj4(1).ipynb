{
  "nbformat": 4,
  "nbformat_minor": 0,
  "metadata": {
    "colab": {
      "name": "Proj4.ipynb",
      "provenance": [],
      "collapsed_sections": []
    },
    "kernelspec": {
      "name": "python3",
      "display_name": "Python 3"
    },
    "language_info": {
      "name": "python"
    }
  },
  "cells": [
    {
      "cell_type": "code",
      "metadata": {
        "id": "QKZwp09H1Gm2"
      },
      "source": [
        "import random\n",
        "import numpy as np\n",
        "#Reference: https://scipython.com/book2/chapter-6-numpy/examples/simulating-radioactive-decay/\n",
        "\n",
        "def decay_sim(thalf, N0=500, tgrid=None, nhalflives=4):\n",
        "    \"\"\"Simulate the radioactive decay of N0 nuclei.\n",
        "\n",
        "    thalf is the half-life in some units of time.\n",
        "    If tgrid is provided, it should be a sequence of evenly-spaced time points\n",
        "    to run the simulation on.\n",
        "    If tgrid is None, it is calculated from nhalflives, the number of\n",
        "    half-lives to run the simulation for.\n",
        "\n",
        "    \"\"\"\n",
        "\n",
        "    # Calculate the lifetime from the half-life.\n",
        "    tau = thalf / np.log(2)\n",
        "\n",
        "    if tgrid is None:\n",
        "        # Create a grid of Nt time points up to tmax.\n",
        "        Nt, tmax = 100, thalf * nhalflives\n",
        "        tgrid, dt = np.linspace(0, tmax, Nt, retstep=True)\n",
        "    else:\n",
        "        # tgrid was provided: deduce Nt and the time step, dt.\n",
        "        Nt = len(tgrid)\n",
        "        dt = tgrid[1] - tgrid[0]\n",
        "\n",
        "    N = np.empty(Nt, dtype=int)\n",
        "    N[0] = N0\n",
        "    # The probability that a given nucleus will decay in time dt.\n",
        "    p = dt / tau\n",
        "    for i in range(1, Nt):\n",
        "        # At each time step, start with the undecayed nuclei from the previous.\n",
        "        N[i] = N[i-1]\n",
        "        # Consider each nucleus in turn and decide whether it decays or not.\n",
        "        for j in range(N[i-1]):\n",
        "            r = random.random()\n",
        "            if r < p:\n",
        "                # This nucleus decays.\n",
        "                N[i] -= 1 \n",
        "    return tgrid, N\n",
        "'''\n",
        "\n",
        "N0 = 500\n",
        "# Half life of 14C in years.\n",
        "thalf = 5730\n",
        "\n",
        "# Use Nt time steps up to tmax years.\n",
        "Nt, tmax = 100, 20000\n",
        "tgrid = np.linspace(0, tmax, Nt)\n",
        "\n",
        "\n",
        "#_, Ns_sims = decay_sim(thalf, N0, tgrid)\n",
        "\n",
        "#print(Ns_sims)\n",
        "'''"
      ],
      "execution_count": null,
      "outputs": []
    },
    {
      "cell_type": "code",
      "metadata": {
        "id": "nU8II3n6hKih"
      },
      "source": [
        "#Ben Moreau\n",
        "\n",
        "#Simulate a particle decay with a exponential distribution\n",
        "\n",
        "\n",
        "\n",
        "from matplotlib import pyplot as plt\n",
        "from scipy import optimize\n",
        "\n",
        "half_life_real = 1000#seconds\n",
        "Num_Sim=100\n",
        "Num_Decays=10\n",
        "N0 = 500\n",
        "\n",
        "LikelihoodsH=[]\n",
        "#Define a function that determines the likelihood of a given result\n",
        "def Like(Half):\n",
        "  \n",
        "  Exp_Value = N0*2**(-tmax/Half)\n",
        "  #print(tmax,Half)\n",
        "  #Using the likelihood function for continuous variables, from https://en.wikipedia.org/wiki/Maximum_likelihood_estimation\n",
        "  #The second term in the exponent of likelihood depends on the expectation value\n",
        "  h=0\n",
        "  for i in range(len(Num_remains)):\n",
        "    h+=(Num_remains[i]-Exp_Value)**2#-Likelihood Summation term\n",
        "  #print(h,Num_remains[i],Exp_Value)\n",
        "  return h\n",
        "\n",
        "for m in range(Num_Sim):\n",
        "  Num_remains=[]\n",
        "  \n",
        "  for i in range(Num_Decays):\n",
        "    \n",
        "    # Half life in years.\n",
        "    thalf = half_life_real\n",
        "\n",
        "    # Use Nt time steps up to tmax seconds.\n",
        "    Nt, tmax = 500, thalf*5\n",
        "    tgrid = np.linspace(0, tmax, Nt)\n",
        "\n",
        "\n",
        "    _, Ns_sims = decay_sim(thalf, N0, tgrid)\n",
        "    Num_remains.append(Ns_sims[len(Ns_sims)-1])\n",
        "  result = optimize.minimize_scalar(Like,[100,1000000],method=\"Brent\")\n",
        "  #print(result)\n",
        "  LikelihoodsH.append(result.x)\n",
        "\n",
        "                "
      ],
      "execution_count": 45,
      "outputs": []
    },
    {
      "cell_type": "code",
      "metadata": {
        "colab": {
          "base_uri": "https://localhost:8080/",
          "height": 313
        },
        "id": "HivtkkdXS0W7",
        "outputId": "8d21080e-efa1-4b61-c0f0-4475072a735a"
      },
      "source": [
        "plt.hist(LikelihoodsH,color=\"Red\",bins=15)\n",
        "L=[]\n",
        "for i in range(int(len(LikelihoodsH)/2)):\n",
        "  L.append(thalf)\n",
        "plt.hist(L,color=\"black\",bins=2)\n",
        "plt.title(str(Num_Decays) + \" Experiments, \" +str(Num_Sim) + \", Simulations,\"+ str(N0)+\" Particles per experiment. Real Half-life is \" +str(half_life_real) )\n",
        "plt.xlabel(\"Half life to maximize likelihood\")\n",
        "plt.ylabel(\"Amount\")\n",
        "print(\"The average found HL is\",sum(LikelihoodsH)/len(LikelihoodsH))\n",
        "plt.show()"
      ],
      "execution_count": 44,
      "outputs": [
        {
          "output_type": "stream",
          "text": [
            "995.9485881928348\n"
          ],
          "name": "stdout"
        },
        {
          "output_type": "display_data",
          "data": {
            "image/png": "[encoded data removed]",
            "text/plain": [
              "<Figure size 432x288 with 1 Axes>"
            ]
          },
          "metadata": {
            "tags": [],
            "needs_background": "light"
          }
        }
      ]
    }
  ]
}